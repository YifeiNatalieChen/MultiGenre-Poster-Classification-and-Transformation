{
  "nbformat": 4,
  "nbformat_minor": 5,
  "metadata": {
    "kernelspec": {
      "display_name": "Python 3",
      "language": "python",
      "name": "python3"
    },
    "language_info": {
      "codemirror_mode": {
        "name": "ipython",
        "version": 3
      },
      "file_extension": ".py",
      "mimetype": "text/x-python",
      "name": "python",
      "nbconvert_exporter": "python",
      "pygments_lexer": "ipython3",
      "version": "3.7.4"
    },
    "colab": {
      "name": "FinalProject - Data Collection.ipynb",
      "provenance": []
    }
  },
  "cells": [
    {
      "cell_type": "markdown",
      "metadata": {
        "id": "8kJMcjIjimgL"
      },
      "source": [
        "## Data Collection\n",
        "\n",
        "This file aims at collecting a dataset with movies' genre attachments as well as poster links and retrieving poster images with the provided links. In this project, the data contains a csv file containing movie titles, genre attachments by IMDB, as well as poster links, and original poster images. The dataset was gained from Kaggle (https://www.kaggle.com/neha1703/movie-genre-from-its-poster) and the original poster images were gained from the website of IMDB. The csv file and the original poster images are stored in Google Cloud bucket. "
      ],
      "id": "8kJMcjIjimgL"
    },
    {
      "cell_type": "code",
      "metadata": {
        "id": "42504bf9"
      },
      "source": [
        "# Import Packages\n",
        "import pandas as pd\n",
        "import urllib.request\n",
        "import os"
      ],
      "id": "42504bf9",
      "execution_count": 1,
      "outputs": []
    },
    {
      "cell_type": "code",
      "metadata": {
        "id": "f1ff59f7"
      },
      "source": [
        "# Read the csv file and load it as dataframe \n",
        "df = pd.read_csv(\"MovieGenre.csv\", encoding = 'latin')\n",
        "df = df.dropna()\n",
        "df = df.reset_index(drop = True)"
      ],
      "id": "f1ff59f7",
      "execution_count": 3,
      "outputs": []
    },
    {
      "cell_type": "code",
      "metadata": {
        "id": "625d1d94"
      },
      "source": [
        "data_root = \"./Data\""
      ],
      "id": "625d1d94",
      "execution_count": 4,
      "outputs": []
    },
    {
      "cell_type": "code",
      "metadata": {
        "id": "b2dfcf94"
      },
      "source": [
        "# Download the image with the provided poster links to the destination folder\n",
        "link_list = []\n",
        "filename_list = []\n",
        "n = len(df)\n",
        "for i in range(n):\n",
        "    link = df.loc[i, 'Poster']\n",
        "    file = os.path.join(data_root, link.split(\"/\")[-1])\n",
        "    try:\n",
        "        urllib.request.urlretrieve(link, file)\n",
        "        link_list.append(link)\n",
        "        filename_list.append(file)\n",
        "    except urllib.error.HTTPError:\n",
        "        continue"
      ],
      "id": "b2dfcf94",
      "execution_count": 5,
      "outputs": []
    },
    {
      "cell_type": "code",
      "metadata": {
        "id": "9a1e99a3"
      },
      "source": [
        "# Drop off the rows with no matched image in the directory\n",
        "copy = [link.split(\"/\")[-1] for link in df['Poster']]\n",
        "df['Poster'] = copy"
      ],
      "id": "9a1e99a3",
      "execution_count": 6,
      "outputs": []
    },
    {
      "cell_type": "code",
      "metadata": {
        "id": "ff2d4d70"
      },
      "source": [
        "stored_image = os.listdir(data_root)\n",
        "for i in range(len(copy)):\n",
        "    df_image = copy[i]\n",
        "    if df_image not in stored_image:\n",
        "        df = df.drop(i, axis = 0)\n",
        "df = df.reset_index(drop = True)"
      ],
      "id": "ff2d4d70",
      "execution_count": 7,
      "outputs": []
    },
    {
      "cell_type": "code",
      "metadata": {
        "id": "8141f5e2"
      },
      "source": [
        "# Save the final csv file to local\n",
        "df.to_csv(\"collected_dataframe.csv\", index = False)"
      ],
      "id": "8141f5e2",
      "execution_count": 10,
      "outputs": []
    },
    {
      "cell_type": "markdown",
      "metadata": {
        "id": "urdF5LimmFCy"
      },
      "source": [
        "After the above steps, the modified csv file and the poster images are uploaded to and stored in Google Cloud bucket. "
      ],
      "id": "urdF5LimmFCy"
    }
  ]
}